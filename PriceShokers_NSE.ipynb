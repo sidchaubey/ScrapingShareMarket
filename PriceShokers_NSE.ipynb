{
  "nbformat": 4,
  "nbformat_minor": 0,
  "metadata": {
    "colab": {
      "name": "PriceShokers-NSE.ipynb",
      "provenance": [],
      "authorship_tag": "ABX9TyNEj31+vNrhzFEpMFmtsU/2",
      "include_colab_link": true
    },
    "kernelspec": {
      "name": "python3",
      "display_name": "Python 3"
    }
  },
  "cells": [
    {
      "cell_type": "markdown",
      "metadata": {
        "id": "view-in-github",
        "colab_type": "text"
      },
      "source": [
        "<a href=\"https://colab.research.google.com/github/sidchaubey/ScrapingShareMarket/blob/main/PriceShokers_NSE.ipynb\" target=\"_parent\"><img src=\"https://colab.research.google.com/assets/colab-badge.svg\" alt=\"Open In Colab\"/></a>"
      ]
    },
    {
      "cell_type": "code",
      "metadata": {
        "id": "wVcllu7wwDfU"
      },
      "source": [
        "import requests\r\n",
        "import pandas as pd\r\n",
        "from bs4 import BeautifulSoup"
      ],
      "execution_count": 64,
      "outputs": []
    },
    {
      "cell_type": "code",
      "metadata": {
        "colab": {
          "base_uri": "https://localhost:8080/"
        },
        "id": "tIg0NSBgwQ1_",
        "outputId": "47fff5e6-6e43-47e2-d5d3-9d46397b3959"
      },
      "source": [
        "response = requests.get(\"https://www.moneycontrol.com/stocks/marketstats/nse_pshockers/index.php\")\r\n",
        "print(\"Response Status: \", response.status_code)"
      ],
      "execution_count": 4,
      "outputs": [
        {
          "output_type": "stream",
          "text": [
            "Response Status:  200\n"
          ],
          "name": "stdout"
        }
      ]
    },
    {
      "cell_type": "code",
      "metadata": {
        "colab": {
          "base_uri": "https://localhost:8080/"
        },
        "id": "4NwSDRWpxIn0",
        "outputId": "8ce88e73-081f-4b67-a3b1-53ceffd912ff"
      },
      "source": [
        "response.headers"
      ],
      "execution_count": 5,
      "outputs": [
        {
          "output_type": "execute_result",
          "data": {
            "text/plain": [
              "{'Expires': 'Thu, 19 Nov 1981 08:52:00 GMT', 'Cache-Control': 'no-store, no-cache, must-revalidate, post-check=0, pre-check=0', 'Pragma': 'no-cache', 'X-Cnection': 'close', 'Content-Type': 'text/html; charset=UTF-8', 'Content-Encoding': 'gzip', 'Content-Length': '94591', 'Date': 'Mon, 15 Mar 2021 21:21:32 GMT', 'Connection': 'keep-alive', 'Vary': 'Accept-Encoding', 'Set-Cookie': 'PHPSESSID=l30nlhrmlo9mojkrjd1519kjl0; path=/; domain=.moneycontrol.com, bm_sz=10C40AC7CD2BFB99DDE5C21369EB02BF~YAAQDgF8aIhnYhF4AQAAbPTDNwuy45Upd+9kfFxqS1woj+OLLe+0pOgAOWE3pkc8FkOX43BIUnoM4MpssK5uGjp0+fIYDCNHIzsH0yMYofSkhUhw1iO3gI9s7OABOdUbAJFpjJnVd+xhE23/tCWJeNPk6et1Xu2I827O0TvKNqfjz/uxHHqwiIHJcttO3Vnh6z+KGexi; Domain=.moneycontrol.com; Path=/; Expires=Tue, 16 Mar 2021 01:21:30 GMT; Max-Age=14398; HttpOnly, _abck=F12CF1A6291EA714615A70C168176C6F~-1~YAAQDgF8aIlnYhF4AQAAbPTDNwWKAYJI7EaKRxWrjWyaAxgGiKhWxKGjeEZfjlvRJpBtV4AaODDhZtJMtx7nySCKQERIWay9v9WTghEVRtdD32sy9tvS8kGhK0+aMVzwTadSF9k0h/0XbVGso8encorqLfLcJyidzb2tcN0IXYg66HVJ72zq6HmOPlPnyf6aasjy3pL8JDS/Co48fah98AXVd3hbCbbVrpASpXH7pBopYqKd4oXFUZ/iuftAhIVuwAd3V2Fu2VJVdaCZ3chNRnpryO+v9gx3T59zt/vVz4OJbcLu69oLkgkmXqklwOc9CHPUYc9i7SwTjEOj5fy9as7WimdDDQ1ZMswosD6Hz76vlNvs8ixogGcD/gB5NHU=~-1~-1~-1; Domain=.moneycontrol.com; Path=/; Expires=Tue, 15 Mar 2022 21:21:32 GMT; Max-Age=31536000; Secure', 'Access-Control-Max-Age': '86400', 'Access-Control-Allow-Credentials': 'false', 'Access-Control-Allow-Headers': '*', 'Access-Control-Allow-Methods': 'GET,POST', 'Access-Control-Allow-Origin': '*', 'Strict-Transport-Security': 'max-age=86400 ; preload'}"
            ]
          },
          "metadata": {
            "tags": []
          },
          "execution_count": 5
        }
      ]
    },
    {
      "cell_type": "code",
      "metadata": {
        "id": "Dj1q1g2LwuTv"
      },
      "source": [
        "html = BeautifulSoup(response.text, \"html.parser\")\r\n",
        "# html"
      ],
      "execution_count": 7,
      "outputs": []
    },
    {
      "cell_type": "code",
      "metadata": {
        "id": "i7V73_XIxPh2"
      },
      "source": [
        "data_html = html.find_all(\"span\", class_=\"gld13 disin\")"
      ],
      "execution_count": 8,
      "outputs": []
    },
    {
      "cell_type": "code",
      "metadata": {
        "id": "Q9zhg8aZxs3r"
      },
      "source": [
        "price_shokers = []\r\n",
        "\r\n",
        "count = 0\r\n",
        "for i in data_html[:]:\r\n",
        "  if count==0:\r\n",
        "    i = str(i.text.strip())\r\n",
        "    price_shokers.append(i.partition('\\n')[0])"
      ],
      "execution_count": 15,
      "outputs": []
    },
    {
      "cell_type": "code",
      "metadata": {
        "colab": {
          "base_uri": "https://localhost:8080/"
        },
        "id": "xr8_e1BkxuU0",
        "outputId": "c71bd088-0410-43ca-d51a-e20993189ecc"
      },
      "source": [
        "price_shokers"
      ],
      "execution_count": 16,
      "outputs": [
        {
          "output_type": "execute_result",
          "data": {
            "text/plain": [
              "['Nahar Poly Film',\n",
              " 'HPL Electric & ',\n",
              " 'CL Educate',\n",
              " 'Meghmani Organi',\n",
              " 'Nahar Capital',\n",
              " 'RPSG VENTURES',\n",
              " 'Bodal Chemicals',\n",
              " 'Religare Enterp',\n",
              " 'Panache Digilif',\n",
              " 'Godawari Power',\n",
              " 'Consol Finvest',\n",
              " 'Airo Lam']"
            ]
          },
          "metadata": {
            "tags": []
          },
          "execution_count": 16
        }
      ]
    },
    {
      "cell_type": "code",
      "metadata": {
        "id": "Bb965yoKyLkr"
      },
      "source": [
        "data_html = html.find_all(\"td\", class_=\"PR\")"
      ],
      "execution_count": 17,
      "outputs": []
    },
    {
      "cell_type": "code",
      "metadata": {
        "id": "KOLVkv980R_3"
      },
      "source": [
        "# data_html"
      ],
      "execution_count": 49,
      "outputs": []
    },
    {
      "cell_type": "code",
      "metadata": {
        "id": "y3K8Vv-l0UMB"
      },
      "source": [
        "link_list = []\r\n",
        "\r\n",
        "for i in data_html:\r\n",
        "  # print(type(i))\r\n",
        "  link_list.append(i.find(\"a\")[\"href\"]) # or we can use i.a.get(\"href\")"
      ],
      "execution_count": 28,
      "outputs": []
    },
    {
      "cell_type": "code",
      "metadata": {
        "id": "rGsFlHZN01_z"
      },
      "source": [
        "# link_list"
      ],
      "execution_count": 35,
      "outputs": []
    },
    {
      "cell_type": "code",
      "metadata": {
        "id": "EkK2aSTV2VT4"
      },
      "source": [
        "# for i in zip(price_shokers, link_list):\r\n",
        "#   print(i)"
      ],
      "execution_count": 36,
      "outputs": []
    },
    {
      "cell_type": "code",
      "metadata": {
        "id": "WZ1Nr1Us2j0F"
      },
      "source": [
        "data_html = html.find_all(\"td\", class_=\"green\")"
      ],
      "execution_count": 33,
      "outputs": []
    },
    {
      "cell_type": "code",
      "metadata": {
        "colab": {
          "base_uri": "https://localhost:8080/"
        },
        "id": "nofxXDlg3kpH",
        "outputId": "7c661961-b032-429f-8f32-73ffde80b79d"
      },
      "source": [
        "data_html"
      ],
      "execution_count": 40,
      "outputs": [
        {
          "output_type": "execute_result",
          "data": {
            "text/plain": [
              "[<td align=\"right\" class=\"green\" width=\"185\">19.99</td>,\n",
              " <td align=\"right\" class=\"green\" width=\"185\">19.92</td>,\n",
              " <td align=\"right\" class=\"green\" width=\"185\">19.79</td>,\n",
              " <td align=\"right\" class=\"green\" width=\"185\">19.03</td>,\n",
              " <td align=\"right\" class=\"green\" width=\"185\">18.36</td>,\n",
              " <td align=\"right\" class=\"green\" width=\"185\">16.28</td>,\n",
              " <td align=\"right\" class=\"green\" width=\"185\">15.42</td>,\n",
              " <td align=\"right\" class=\"green\" width=\"185\">12.81</td>,\n",
              " <td align=\"right\" class=\"green\" width=\"185\">12.77</td>,\n",
              " <td align=\"right\" class=\"green\" width=\"185\">12.20</td>,\n",
              " <td align=\"right\" class=\"green\" width=\"185\">10.80</td>,\n",
              " <td align=\"right\" class=\"green\" width=\"185\">10.70</td>]"
            ]
          },
          "metadata": {
            "tags": []
          },
          "execution_count": 40
        }
      ]
    },
    {
      "cell_type": "code",
      "metadata": {
        "id": "hZ0k_aD24U-c"
      },
      "source": [
        "percent_incerese_list = []\r\n",
        "\r\n",
        "for i in data_html:\r\n",
        "  # print(type(i))\r\n",
        "  percent_incerese_list.append(float(i.text)) # or we can use i.a.get(\"href\")"
      ],
      "execution_count": 46,
      "outputs": []
    },
    {
      "cell_type": "code",
      "metadata": {
        "id": "ZebVEEvn4tzX"
      },
      "source": [
        "# percent_incerese_list"
      ],
      "execution_count": 48,
      "outputs": []
    },
    {
      "cell_type": "code",
      "metadata": {
        "id": "o59dj_Po5VeS"
      },
      "source": [
        "data = []\r\n",
        "\r\n",
        "for i in zip(price_shokers, link_list, percent_incerese_list):\r\n",
        "  data.append(i)"
      ],
      "execution_count": 60,
      "outputs": []
    },
    {
      "cell_type": "code",
      "metadata": {
        "colab": {
          "base_uri": "https://localhost:8080/"
        },
        "id": "5UtKn0T46P3H",
        "outputId": "8fd9cee1-5a0f-4d5b-dfbb-666febbfbdee"
      },
      "source": [
        "data"
      ],
      "execution_count": 62,
      "outputs": [
        {
          "output_type": "execute_result",
          "data": {
            "text/plain": [
              "[('Nahar Poly Film',\n",
              "  'http://www.moneycontrol.com/india/stockpricequote/textilesspinningcottonblended/naharpolyfilms/NIH',\n",
              "  19.99),\n",
              " ('HPL Electric & ',\n",
              "  'http://www.moneycontrol.com/india/stockpricequote/electricequipment/hplelectricpower/HEP',\n",
              "  19.92),\n",
              " ('CL Educate',\n",
              "  'http://www.moneycontrol.com/india/stockpricequote/miscellaneous/cleducate/CE09',\n",
              "  19.79),\n",
              " ('Meghmani Organi',\n",
              "  'http://www.moneycontrol.com/india/stockpricequote/pesticidesagrochemicals/meghmaniorganics/MO04',\n",
              "  19.03),\n",
              " ('Nahar Capital',\n",
              "  'http://www.moneycontrol.com/india/stockpricequote/financeinvestments/naharcapitalfinancialservices/NCF',\n",
              "  18.36),\n",
              " ('RPSG VENTURES',\n",
              "  'http://www.moneycontrol.com/india/stockpricequote/miscellaneous/rpsgventures/CESCV54233',\n",
              "  16.28),\n",
              " ('Bodal Chemicals',\n",
              "  'http://www.moneycontrol.com/india/stockpricequote/dyespigments/bodalchemicals/BC15',\n",
              "  15.42),\n",
              " ('Religare Enterp',\n",
              "  'http://www.moneycontrol.com/india/stockpricequote/financeinvestments/religareenterprises/RE09',\n",
              "  12.81),\n",
              " ('Panache Digilif',\n",
              "  'http://www.moneycontrol.com/india/stockpricequote///PD09',\n",
              "  12.77),\n",
              " ('Godawari Power',\n",
              "  'http://www.moneycontrol.com/india/stockpricequote/steelspongeiron/godawaripowerispat/GPI7',\n",
              "  12.2),\n",
              " ('Consol Finvest',\n",
              "  'http://www.moneycontrol.com/india/stockpricequote/financegeneral/consolidatedfinvestholdings/CFH01',\n",
              "  10.8),\n",
              " ('Airo Lam',\n",
              "  'http://www.moneycontrol.com/india/stockpricequote///AL08',\n",
              "  10.7)]"
            ]
          },
          "metadata": {
            "tags": []
          },
          "execution_count": 62
        }
      ]
    },
    {
      "cell_type": "code",
      "metadata": {
        "id": "Bz5q-R8e8rP1"
      },
      "source": [
        "# Creating data frame \r\n",
        "\r\n",
        "df = pd.DataFrame(data)"
      ],
      "execution_count": 65,
      "outputs": []
    },
    {
      "cell_type": "code",
      "metadata": {
        "id": "r0sCw1fm6RTO"
      },
      "source": [
        "df.columns = [\"company_name\", \"hyper_link\", \"percent_incerese\"]"
      ],
      "execution_count": 69,
      "outputs": []
    },
    {
      "cell_type": "code",
      "metadata": {
        "colab": {
          "base_uri": "https://localhost:8080/",
          "height": 417
        },
        "id": "KuuFdxtB7wtn",
        "outputId": "f235bbf9-6639-46dd-b16c-1da5fb00b38c"
      },
      "source": [
        "df"
      ],
      "execution_count": 70,
      "outputs": [
        {
          "output_type": "execute_result",
          "data": {
            "text/html": [
              "<div>\n",
              "<style scoped>\n",
              "    .dataframe tbody tr th:only-of-type {\n",
              "        vertical-align: middle;\n",
              "    }\n",
              "\n",
              "    .dataframe tbody tr th {\n",
              "        vertical-align: top;\n",
              "    }\n",
              "\n",
              "    .dataframe thead th {\n",
              "        text-align: right;\n",
              "    }\n",
              "</style>\n",
              "<table border=\"1\" class=\"dataframe\">\n",
              "  <thead>\n",
              "    <tr style=\"text-align: right;\">\n",
              "      <th></th>\n",
              "      <th>company_name</th>\n",
              "      <th>hyper_link</th>\n",
              "      <th>percent_incerese</th>\n",
              "    </tr>\n",
              "  </thead>\n",
              "  <tbody>\n",
              "    <tr>\n",
              "      <th>0</th>\n",
              "      <td>Nahar Poly Film</td>\n",
              "      <td>http://www.moneycontrol.com/india/stockpricequ...</td>\n",
              "      <td>19.99</td>\n",
              "    </tr>\n",
              "    <tr>\n",
              "      <th>1</th>\n",
              "      <td>HPL Electric &amp;</td>\n",
              "      <td>http://www.moneycontrol.com/india/stockpricequ...</td>\n",
              "      <td>19.92</td>\n",
              "    </tr>\n",
              "    <tr>\n",
              "      <th>2</th>\n",
              "      <td>CL Educate</td>\n",
              "      <td>http://www.moneycontrol.com/india/stockpricequ...</td>\n",
              "      <td>19.79</td>\n",
              "    </tr>\n",
              "    <tr>\n",
              "      <th>3</th>\n",
              "      <td>Meghmani Organi</td>\n",
              "      <td>http://www.moneycontrol.com/india/stockpricequ...</td>\n",
              "      <td>19.03</td>\n",
              "    </tr>\n",
              "    <tr>\n",
              "      <th>4</th>\n",
              "      <td>Nahar Capital</td>\n",
              "      <td>http://www.moneycontrol.com/india/stockpricequ...</td>\n",
              "      <td>18.36</td>\n",
              "    </tr>\n",
              "    <tr>\n",
              "      <th>5</th>\n",
              "      <td>RPSG VENTURES</td>\n",
              "      <td>http://www.moneycontrol.com/india/stockpricequ...</td>\n",
              "      <td>16.28</td>\n",
              "    </tr>\n",
              "    <tr>\n",
              "      <th>6</th>\n",
              "      <td>Bodal Chemicals</td>\n",
              "      <td>http://www.moneycontrol.com/india/stockpricequ...</td>\n",
              "      <td>15.42</td>\n",
              "    </tr>\n",
              "    <tr>\n",
              "      <th>7</th>\n",
              "      <td>Religare Enterp</td>\n",
              "      <td>http://www.moneycontrol.com/india/stockpricequ...</td>\n",
              "      <td>12.81</td>\n",
              "    </tr>\n",
              "    <tr>\n",
              "      <th>8</th>\n",
              "      <td>Panache Digilif</td>\n",
              "      <td>http://www.moneycontrol.com/india/stockpricequ...</td>\n",
              "      <td>12.77</td>\n",
              "    </tr>\n",
              "    <tr>\n",
              "      <th>9</th>\n",
              "      <td>Godawari Power</td>\n",
              "      <td>http://www.moneycontrol.com/india/stockpricequ...</td>\n",
              "      <td>12.20</td>\n",
              "    </tr>\n",
              "    <tr>\n",
              "      <th>10</th>\n",
              "      <td>Consol Finvest</td>\n",
              "      <td>http://www.moneycontrol.com/india/stockpricequ...</td>\n",
              "      <td>10.80</td>\n",
              "    </tr>\n",
              "    <tr>\n",
              "      <th>11</th>\n",
              "      <td>Airo Lam</td>\n",
              "      <td>http://www.moneycontrol.com/india/stockpricequ...</td>\n",
              "      <td>10.70</td>\n",
              "    </tr>\n",
              "  </tbody>\n",
              "</table>\n",
              "</div>"
            ],
            "text/plain": [
              "       company_name  ... percent_incerese\n",
              "0   Nahar Poly Film  ...            19.99\n",
              "1   HPL Electric &   ...            19.92\n",
              "2        CL Educate  ...            19.79\n",
              "3   Meghmani Organi  ...            19.03\n",
              "4     Nahar Capital  ...            18.36\n",
              "5     RPSG VENTURES  ...            16.28\n",
              "6   Bodal Chemicals  ...            15.42\n",
              "7   Religare Enterp  ...            12.81\n",
              "8   Panache Digilif  ...            12.77\n",
              "9    Godawari Power  ...            12.20\n",
              "10   Consol Finvest  ...            10.80\n",
              "11         Airo Lam  ...            10.70\n",
              "\n",
              "[12 rows x 3 columns]"
            ]
          },
          "metadata": {
            "tags": []
          },
          "execution_count": 70
        }
      ]
    },
    {
      "cell_type": "code",
      "metadata": {
        "colab": {
          "base_uri": "https://localhost:8080/"
        },
        "id": "z8_L4hoD8A6I",
        "outputId": "52a81178-42a9-4e70-bdd1-7ba33f40b650"
      },
      "source": [
        "df.loc[0]"
      ],
      "execution_count": 72,
      "outputs": [
        {
          "output_type": "execute_result",
          "data": {
            "text/plain": [
              "company_name                                          Nahar Poly Film\n",
              "hyper_link          http://www.moneycontrol.com/india/stockpricequ...\n",
              "percent_incerese                                                19.99\n",
              "Name: 0, dtype: object"
            ]
          },
          "metadata": {
            "tags": []
          },
          "execution_count": 72
        }
      ]
    },
    {
      "cell_type": "code",
      "metadata": {
        "id": "4rUwNQMS9clK"
      },
      "source": [
        ""
      ],
      "execution_count": null,
      "outputs": []
    }
  ]
}
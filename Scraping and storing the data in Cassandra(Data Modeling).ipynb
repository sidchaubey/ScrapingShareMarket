{
 "cells": [
  {
   "cell_type": "code",
   "execution_count": 50,
   "metadata": {},
   "outputs": [],
   "source": [
    "import requests\n",
    "from bs4 import BeautifulSoup\n",
    "import re\n",
    "from datetime import datetime"
   ]
  },
  {
   "cell_type": "code",
   "execution_count": 2,
   "metadata": {},
   "outputs": [
    {
     "name": "stdout",
     "output_type": "stream",
     "text": [
      "4.0.0.6811\n"
     ]
    }
   ],
   "source": [
    "from cassandra.cluster import Cluster\n",
    "from cassandra.auth import PlainTextAuthProvider\n",
    "\n",
    "cloud_config= {\n",
    "        'secure_connect_bundle': r'<path to secure connect.zip>'\n",
    "}\n",
    "auth_provider = PlainTextAuthProvider('MNNiIJMbntZbbpTGobRzZFJh', 'ZIApc,ZR7XYFmuoU5m7.zjZWwpc9tL.GDtl7fhxMklSFK.JH8k,lknqM7pc7xRroZe8rBsTBI4-wDRRwIz7Z_fJSmo9,k6Kf9m+_y6IfJo3rkfcsubkIiUXp-LycljX4')\n",
    "cluster = Cluster(cloud=cloud_config, auth_provider=auth_provider)\n",
    "session = cluster.connect()\n",
    "\n",
    "row = session.execute(\"select release_version from system.local\").one()\n",
    "if row:\n",
    "    print(row[0])\n",
    "else:\n",
    "    print(\"An error occurred.\")"
   ]
  },
  {
   "cell_type": "code",
   "execution_count": 5,
   "metadata": {},
   "outputs": [
    {
     "name": "stdout",
     "output_type": "stream",
     "text": [
      "Response Status:  200\n"
     ]
    }
   ],
   "source": [
    "response = requests.get(\"https://www.moneycontrol.com/stocks/marketstats/nse_pshockers/index.php\")\n",
    "print(\"Response Status: \", response.status_code)"
   ]
  },
  {
   "cell_type": "code",
   "execution_count": 6,
   "metadata": {},
   "outputs": [
    {
     "data": {
      "text/plain": [
       "{'Expires': 'Thu, 19 Nov 1981 08:52:00 GMT', 'Cache-Control': 'no-store, no-cache, must-revalidate, post-check=0, pre-check=0', 'Pragma': 'no-cache', 'X-Cnection': 'close', 'Content-Type': 'text/html; charset=UTF-8', 'Content-Encoding': 'gzip', 'Content-Length': '97937', 'Date': 'Sat, 27 Mar 2021 12:23:34 GMT', 'Connection': 'keep-alive', 'Vary': 'Accept-Encoding', 'Set-Cookie': 'PHPSESSID=fu9rfntgirup27lvkaskcg6ua1; path=/; domain=.moneycontrol.com, bm_sz=7A2F4A56B190F7344FEDCDB2B470AD81~YAAQXF3SF5CX5kZ4AQAA7r+jcwsBL9cZO2OcTu+Tad0Znn6Tb6t5v9H9ucTRjYIpSxcW/cE6gnBIlZpTDw6aGhs7xB5K3+U4Eor0vF4j4HiP6V7Ucm8uLaxEhhiigc5BrPUeUeBdJ6BGK/KDnlZx91CQz3AI0ZUyN1g6VUmEUcHE0ZKHtxxVGZll19Hq159BXy/NH2o=; Domain=.moneycontrol.com; Path=/; Expires=Sat, 27 Mar 2021 16:23:33 GMT; Max-Age=14399; HttpOnly, _abck=6420868F4E39997BFDC701E6909AB13B~-1~YAAQXF3SF5GX5kZ4AQAA7r+jcwUvBZkm6Hvmn6XLSzbJfAuFxH31O+4DFAZ2rdefmYCzy+jLetRZi2CRd8k06LPKZMJUjx19b29f+FHMOMz0XDf2Xyr0ff4N2SGKmZgFawL71vu/c8kk2E6TkRN5scVlXkMHrxQ37rqEFIqEaoYaxRBs+qTdbSsJSkFzNyBje7xCCZPzD4WJ3VVFmGwhy0c+do/LixslE5RF22L8cu+QJOKwppcZsk0kkuqj1ibbYpVG4Zl+H7vOcFf8V85y84+QAsszjtb7qYLn1TG+jOFm6woDiNJksZ+O17Y8xGW51IZR1s6od38/BjKOhaF+knoUnCjBlB1dJXG/R1EAMpgHs1oPSvYe5HjuyG+at2k=~-1~-1~-1; Domain=.moneycontrol.com; Path=/; Expires=Sun, 27 Mar 2022 12:23:34 GMT; Max-Age=31536000; Secure', 'Access-Control-Max-Age': '86400', 'Access-Control-Allow-Credentials': 'false', 'Access-Control-Allow-Headers': '*', 'Access-Control-Allow-Methods': 'GET,POST', 'Access-Control-Allow-Origin': '*', 'Strict-Transport-Security': 'max-age=86400 ; preload'}"
      ]
     },
     "execution_count": 6,
     "metadata": {},
     "output_type": "execute_result"
    }
   ],
   "source": [
    "response.headers"
   ]
  },
  {
   "cell_type": "code",
   "execution_count": 7,
   "metadata": {},
   "outputs": [],
   "source": [
    "html = BeautifulSoup(response.text, \"html.parser\")"
   ]
  },
  {
   "cell_type": "code",
   "execution_count": 11,
   "metadata": {},
   "outputs": [
    {
     "data": {
      "text/plain": [
       "bs4.BeautifulSoup"
      ]
     },
     "execution_count": 11,
     "metadata": {},
     "output_type": "execute_result"
    }
   ],
   "source": [
    "type(html)"
   ]
  },
  {
   "cell_type": "code",
   "execution_count": 10,
   "metadata": {},
   "outputs": [],
   "source": [
    "data_html = html.find_all(\"span\", class_=\"gld13 disin\")"
   ]
  },
  {
   "cell_type": "code",
   "execution_count": 14,
   "metadata": {},
   "outputs": [],
   "source": [
    "# data_html"
   ]
  },
  {
   "cell_type": "code",
   "execution_count": 20,
   "metadata": {},
   "outputs": [],
   "source": [
    "\n",
    "price_shokers = []\n",
    "\n",
    "# count = 0\n",
    "for i in data_html[:]:\n",
    "#   if count==0:\n",
    "    i = str(i.text.strip())\n",
    "    price_shokers.append(i.partition('\\n')[0])"
   ]
  },
  {
   "cell_type": "code",
   "execution_count": 21,
   "metadata": {},
   "outputs": [
    {
     "data": {
      "text/plain": [
       "['Sikko Industrie',\n",
       " 'Dynamatic Tech',\n",
       " 'Laxmi Cotspin',\n",
       " 'Pokarna',\n",
       " 'Motor and Gen F',\n",
       " 'Prime Focus',\n",
       " 'Privi Special',\n",
       " 'Hisar Metal',\n",
       " 'Dynemic Product',\n",
       " 'Seamec',\n",
       " 'Xpro India',\n",
       " 'HOV Services',\n",
       " 'Pritish Nandy',\n",
       " 'Jindal Photo',\n",
       " 'SPL Industries',\n",
       " 'Akash Infraproj',\n",
       " 'WE WIN',\n",
       " 'Par Drugs']"
      ]
     },
     "execution_count": 21,
     "metadata": {},
     "output_type": "execute_result"
    }
   ],
   "source": [
    "price_shokers"
   ]
  },
  {
   "cell_type": "code",
   "execution_count": 22,
   "metadata": {},
   "outputs": [],
   "source": [
    "data_html = html.find_all(\"td\", class_=\"PR\")"
   ]
  },
  {
   "cell_type": "code",
   "execution_count": 24,
   "metadata": {},
   "outputs": [],
   "source": [
    "# data_html"
   ]
  },
  {
   "cell_type": "code",
   "execution_count": 25,
   "metadata": {},
   "outputs": [],
   "source": [
    "\n",
    "link_list = []\n",
    "\n",
    "for i in data_html:\n",
    "  # print(type(i))\n",
    "  link_list.append(i.find(\"a\")[\"href\"]) # or we can use i.a.get(\"href\")"
   ]
  },
  {
   "cell_type": "code",
   "execution_count": 26,
   "metadata": {},
   "outputs": [],
   "source": [
    "data_html = html.find_all(\"td\", class_=\"green\")"
   ]
  },
  {
   "cell_type": "code",
   "execution_count": 28,
   "metadata": {},
   "outputs": [
    {
     "data": {
      "text/plain": [
       "[<td align=\"right\" class=\"green\" width=\"185\">19.59</td>,\n",
       " <td align=\"right\" class=\"green\" width=\"185\">18.40</td>,\n",
       " <td align=\"right\" class=\"green\" width=\"185\">14.44</td>,\n",
       " <td align=\"right\" class=\"green\" width=\"185\">14.04</td>,\n",
       " <td align=\"right\" class=\"green\" width=\"185\">13.71</td>,\n",
       " <td align=\"right\" class=\"green\" width=\"185\">12.84</td>,\n",
       " <td align=\"right\" class=\"green\" width=\"185\">11.44</td>,\n",
       " <td align=\"right\" class=\"green\" width=\"185\">11.33</td>,\n",
       " <td align=\"right\" class=\"green\" width=\"185\">11.24</td>,\n",
       " <td align=\"right\" class=\"green\" width=\"185\">10.34</td>,\n",
       " <td align=\"right\" class=\"green\" width=\"185\">10.22</td>,\n",
       " <td align=\"right\" class=\"green\" width=\"185\">10.17</td>,\n",
       " <td align=\"right\" class=\"green\" width=\"185\">10.14</td>,\n",
       " <td align=\"right\" class=\"green\" width=\"185\">10.14</td>,\n",
       " <td align=\"right\" class=\"green\" width=\"185\">10.12</td>,\n",
       " <td align=\"right\" class=\"green\" width=\"185\">10.12</td>,\n",
       " <td align=\"right\" class=\"green\" width=\"185\">10.11</td>,\n",
       " <td align=\"right\" class=\"green\" width=\"185\">10.09</td>]"
      ]
     },
     "execution_count": 28,
     "metadata": {},
     "output_type": "execute_result"
    }
   ],
   "source": [
    "data_html"
   ]
  },
  {
   "cell_type": "code",
   "execution_count": 31,
   "metadata": {},
   "outputs": [],
   "source": [
    "percent_increase_list = []\n",
    "\n",
    "for i in data_html:\n",
    "  # print(type(i))\n",
    "  percent_increase_list.append(float(i.text)) # or we can use i.a.get(\"href\")"
   ]
  },
  {
   "cell_type": "code",
   "execution_count": 64,
   "metadata": {},
   "outputs": [],
   "source": [
    "time_scraped = [datetime.now().strftime(\"%d/%m/%Y %H:%M:%S\") for i in price_shokers]\n",
    "exchange = [\"nse\" for i in price_shokers]"
   ]
  },
  {
   "cell_type": "code",
   "execution_count": 66,
   "metadata": {},
   "outputs": [],
   "source": [
    "# time_scraped\n",
    "# exchange"
   ]
  },
  {
   "cell_type": "code",
   "execution_count": 67,
   "metadata": {},
   "outputs": [],
   "source": [
    "data = []\n",
    "\n",
    "for i in zip(price_shokers, link_list, percent_increase_list,time_scraped, exchange):\n",
    "  data.append(i)"
   ]
  },
  {
   "cell_type": "code",
   "execution_count": 83,
   "metadata": {},
   "outputs": [
    {
     "data": {
      "text/plain": [
       "[('Sikko Industrie',\n",
       "  'http://www.moneycontrol.com/india/stockpricequote///SI51',\n",
       "  19.59,\n",
       "  '27/03/2021 18:27:51',\n",
       "  'nse'),\n",
       " ('Dynamatic Tech',\n",
       "  'http://www.moneycontrol.com/india/stockpricequote/pumps/dynamatictechnologies/DT05',\n",
       "  18.4,\n",
       "  '27/03/2021 18:27:51',\n",
       "  'nse'),\n",
       " ('Laxmi Cotspin',\n",
       "  'http://www.moneycontrol.com/india/stockpricequote///LC03',\n",
       "  14.44,\n",
       "  '27/03/2021 18:27:51',\n",
       "  'nse'),\n",
       " ('Pokarna',\n",
       "  'http://www.moneycontrol.com/india/stockpricequote/ceramicsgranite/pokarna/PL06',\n",
       "  14.04,\n",
       "  '27/03/2021 18:27:51',\n",
       "  'nse'),\n",
       " ('Motor and Gen F',\n",
       "  'http://www.moneycontrol.com/india/stockpricequote/financeleasinghirepurchase/motorgeneralfinance/MGF',\n",
       "  13.71,\n",
       "  '27/03/2021 18:27:51',\n",
       "  'nse'),\n",
       " ('Prime Focus',\n",
       "  'http://www.moneycontrol.com/india/stockpricequote/mediaentertainment/primefocus/PF13',\n",
       "  12.84,\n",
       "  '27/03/2021 18:27:51',\n",
       "  'nse'),\n",
       " ('Privi Special',\n",
       "  'http://www.moneycontrol.com/india/stockpricequote/chemicals/privispecialitychemicals/HKF',\n",
       "  11.44,\n",
       "  '27/03/2021 18:27:51',\n",
       "  'nse'),\n",
       " ('Hisar Metal',\n",
       "  'http://www.moneycontrol.com/india/stockpricequote/steelmediumsmall/hisarmetal/HM05',\n",
       "  11.33,\n",
       "  '27/03/2021 18:27:51',\n",
       "  'nse'),\n",
       " ('Dynemic Product',\n",
       "  'http://www.moneycontrol.com/india/stockpricequote/dyespigments/dynemicproducts/DP12',\n",
       "  11.24,\n",
       "  '27/03/2021 18:27:51',\n",
       "  'nse'),\n",
       " ('Seamec',\n",
       "  'http://www.moneycontrol.com/india/stockpricequote/shipping/seamec/S14',\n",
       "  10.34,\n",
       "  '27/03/2021 18:27:51',\n",
       "  'nse'),\n",
       " ('Xpro India',\n",
       "  'http://www.moneycontrol.com/india/stockpricequote/packaging/xproindia/XI',\n",
       "  10.22,\n",
       "  '27/03/2021 18:27:51',\n",
       "  'nse'),\n",
       " ('HOV Services',\n",
       "  'http://www.moneycontrol.com/india/stockpricequote/computerssoftwaremediumsmall/hovservices/HOV',\n",
       "  10.17,\n",
       "  '27/03/2021 18:27:51',\n",
       "  'nse'),\n",
       " ('Pritish Nandy',\n",
       "  'http://www.moneycontrol.com/india/stockpricequote/mediaentertainment/pritishnandycommunications/PNC',\n",
       "  10.14,\n",
       "  '27/03/2021 18:27:51',\n",
       "  'nse'),\n",
       " ('Jindal Photo',\n",
       "  'http://www.moneycontrol.com/india/stockpricequote/consumergoodselectronic/jindalphoto/JP11',\n",
       "  10.14,\n",
       "  '27/03/2021 18:27:51',\n",
       "  'nse'),\n",
       " ('SPL Industries',\n",
       "  'http://www.moneycontrol.com/india/stockpricequote/textilesreadymadeapparels/splindustries/SPL9',\n",
       "  10.12,\n",
       "  '27/03/2021 18:27:51',\n",
       "  'nse'),\n",
       " ('Akash Infraproj',\n",
       "  'http://www.moneycontrol.com/india/stockpricequote///AI76',\n",
       "  10.12,\n",
       "  '27/03/2021 18:27:51',\n",
       "  'nse'),\n",
       " ('WE WIN',\n",
       "  'http://www.moneycontrol.com/india/stockpricequote///SBS01',\n",
       "  10.11,\n",
       "  '27/03/2021 18:27:51',\n",
       "  'nse'),\n",
       " ('Par Drugs',\n",
       "  'http://www.moneycontrol.com/india/stockpricequote///PDC02',\n",
       "  10.09,\n",
       "  '27/03/2021 18:27:51',\n",
       "  'nse')]"
      ]
     },
     "execution_count": 83,
     "metadata": {},
     "output_type": "execute_result"
    }
   ],
   "source": [
    "data"
   ]
  },
  {
   "cell_type": "code",
   "execution_count": 80,
   "metadata": {},
   "outputs": [
    {
     "name": "stdout",
     "output_type": "stream",
     "text": [
      "Error from server: code=2200 [Invalid query] message=\"No keyspace has been specified. USE a keyspace, or explicitly specify keyspace.tablename\"\n"
     ]
    }
   ],
   "source": [
    "try:\n",
    "    session.execute(\"\"\"SELECT * FROM share_market\"\"\")\n",
    "except Exception as e:\n",
    "    print(e)"
   ]
  },
  {
   "cell_type": "code",
   "execution_count": 81,
   "metadata": {},
   "outputs": [],
   "source": [
    "try:\n",
    "    session.execute(\"\"\"CREATE KEYSPACE IF NOT EXISTS share_market WITH REPLICATION={'class': 'SimpleStrategy', 'replication_factor': 2}\"\"\")\n",
    "except Exception as e:\n",
    "    print(e)"
   ]
  },
  {
   "cell_type": "code",
   "execution_count": 82,
   "metadata": {},
   "outputs": [],
   "source": [
    "try:\n",
    "    session.set_keyspace(\"share_market\")\n",
    "except Exception as e:\n",
    "    print(e)"
   ]
  },
  {
   "cell_type": "code",
   "execution_count": 84,
   "metadata": {},
   "outputs": [],
   "source": [
    "try:\n",
    "    session.execute(\"\"\"CREATE TABLE shokers\n",
    "    (share_name varchar, hyper_link varchar, percent_increase float, time_scraped varchar, exchange varchar, \n",
    "    PRIMARY KEY(share_name, time_scraped, exchange))\"\"\")\n",
    "except Exception as e:\n",
    "    print(e)"
   ]
  },
  {
   "cell_type": "code",
   "execution_count": 86,
   "metadata": {},
   "outputs": [],
   "source": [
    "try:\n",
    "    for i in data:\n",
    "        user_lookup_stmt = session.prepare(\"\"\"INSERT INTO shokers (share_name, hyper_link, percent_increase, time_scraped, exchange) \n",
    "        VALUES ( ?, ?, ?, ?, ?)\"\"\")\n",
    "        session.execute(user_lookup_stmt,i)\n",
    "except Exception as e:\n",
    "    print(e)"
   ]
  },
  {
   "cell_type": "code",
   "execution_count": 87,
   "metadata": {},
   "outputs": [
    {
     "name": "stdout",
     "output_type": "stream",
     "text": [
      "Row(share_name='Seamec', time_scraped='27/03/2021 18:27:51', exchange='nse', hyper_link='http://www.moneycontrol.com/india/stockpricequote/shipping/seamec/S14', percent_increase=10.34000015258789)\n",
      "Row(share_name='Privi Special', time_scraped='27/03/2021 18:27:51', exchange='nse', hyper_link='http://www.moneycontrol.com/india/stockpricequote/chemicals/privispecialitychemicals/HKF', percent_increase=11.4399995803833)\n",
      "Row(share_name='Dynemic Product', time_scraped='27/03/2021 18:27:51', exchange='nse', hyper_link='http://www.moneycontrol.com/india/stockpricequote/dyespigments/dynemicproducts/DP12', percent_increase=11.239999771118164)\n",
      "Row(share_name='Par Drugs', time_scraped='27/03/2021 18:27:51', exchange='nse', hyper_link='http://www.moneycontrol.com/india/stockpricequote///PDC02', percent_increase=10.09000015258789)\n",
      "Row(share_name='Laxmi Cotspin', time_scraped='27/03/2021 18:27:51', exchange='nse', hyper_link='http://www.moneycontrol.com/india/stockpricequote///LC03', percent_increase=14.4399995803833)\n",
      "Row(share_name='Motor and Gen F', time_scraped='27/03/2021 18:27:51', exchange='nse', hyper_link='http://www.moneycontrol.com/india/stockpricequote/financeleasinghirepurchase/motorgeneralfinance/MGF', percent_increase=13.710000038146973)\n",
      "Row(share_name='Hisar Metal', time_scraped='27/03/2021 18:27:51', exchange='nse', hyper_link='http://www.moneycontrol.com/india/stockpricequote/steelmediumsmall/hisarmetal/HM05', percent_increase=11.329999923706055)\n",
      "Row(share_name='Prime Focus', time_scraped='27/03/2021 18:27:51', exchange='nse', hyper_link='http://www.moneycontrol.com/india/stockpricequote/mediaentertainment/primefocus/PF13', percent_increase=12.84000015258789)\n",
      "Row(share_name='Pritish Nandy', time_scraped='27/03/2021 18:27:51', exchange='nse', hyper_link='http://www.moneycontrol.com/india/stockpricequote/mediaentertainment/pritishnandycommunications/PNC', percent_increase=10.140000343322754)\n",
      "Row(share_name='Dynamatic Tech', time_scraped='27/03/2021 18:27:51', exchange='nse', hyper_link='http://www.moneycontrol.com/india/stockpricequote/pumps/dynamatictechnologies/DT05', percent_increase=18.399999618530273)\n",
      "Row(share_name='Pokarna', time_scraped='27/03/2021 18:27:51', exchange='nse', hyper_link='http://www.moneycontrol.com/india/stockpricequote/ceramicsgranite/pokarna/PL06', percent_increase=14.039999961853027)\n",
      "Row(share_name='Xpro India', time_scraped='27/03/2021 18:27:51', exchange='nse', hyper_link='http://www.moneycontrol.com/india/stockpricequote/packaging/xproindia/XI', percent_increase=10.220000267028809)\n",
      "Row(share_name='WE WIN', time_scraped='27/03/2021 18:27:51', exchange='nse', hyper_link='http://www.moneycontrol.com/india/stockpricequote///SBS01', percent_increase=10.109999656677246)\n",
      "Row(share_name='Sikko Industrie', time_scraped='27/03/2021 18:27:51', exchange='nse', hyper_link='http://www.moneycontrol.com/india/stockpricequote///SI51', percent_increase=19.59000015258789)\n",
      "Row(share_name='Jindal Photo', time_scraped='27/03/2021 18:27:51', exchange='nse', hyper_link='http://www.moneycontrol.com/india/stockpricequote/consumergoodselectronic/jindalphoto/JP11', percent_increase=10.140000343322754)\n",
      "Row(share_name='Akash Infraproj', time_scraped='27/03/2021 18:27:51', exchange='nse', hyper_link='http://www.moneycontrol.com/india/stockpricequote///AI76', percent_increase=10.119999885559082)\n",
      "Row(share_name='SPL Industries', time_scraped='27/03/2021 18:27:51', exchange='nse', hyper_link='http://www.moneycontrol.com/india/stockpricequote/textilesreadymadeapparels/splindustries/SPL9', percent_increase=10.119999885559082)\n",
      "Row(share_name='HOV Services', time_scraped='27/03/2021 18:27:51', exchange='nse', hyper_link='http://www.moneycontrol.com/india/stockpricequote/computerssoftwaremediumsmall/hovservices/HOV', percent_increase=10.170000076293945)\n"
     ]
    }
   ],
   "source": [
    "try:\n",
    "    rows = session.execute(\"\"\"SELECT * FROM shokers\"\"\")\n",
    "except Exception as e:\n",
    "    print(e)\n",
    "\n",
    "for row in rows:\n",
    "    print(row)"
   ]
  },
  {
   "cell_type": "code",
   "execution_count": null,
   "metadata": {},
   "outputs": [],
   "source": []
  }
 ],
 "metadata": {
  "kernelspec": {
   "display_name": "Python 3",
   "language": "python",
   "name": "python3"
  },
  "language_info": {
   "codemirror_mode": {
    "name": "ipython",
    "version": 3
   },
   "file_extension": ".py",
   "mimetype": "text/x-python",
   "name": "python",
   "nbconvert_exporter": "python",
   "pygments_lexer": "ipython3",
   "version": "3.8.5"
  }
 },
 "nbformat": 4,
 "nbformat_minor": 4
}

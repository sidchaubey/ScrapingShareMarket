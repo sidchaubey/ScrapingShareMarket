{
  "nbformat": 4,
  "nbformat_minor": 0,
  "metadata": {
    "colab": {
      "name": "nse52wkhigh.ipynb",
      "provenance": [],
      "collapsed_sections": [],
      "authorship_tag": "ABX9TyNCDYiAM8StQB9krVg1gr7+",
      "include_colab_link": true
    },
    "kernelspec": {
      "name": "python3",
      "display_name": "Python 3"
    }
  },
  "cells": [
    {
      "cell_type": "markdown",
      "metadata": {
        "id": "view-in-github",
        "colab_type": "text"
      },
      "source": [
        "<a href=\"https://colab.research.google.com/github/sidchaubey/ScrapingShareMarket/blob/main/nse52wkhigh.ipynb\" target=\"_parent\"><img src=\"https://colab.research.google.com/assets/colab-badge.svg\" alt=\"Open In Colab\"/></a>"
      ]
    },
    {
      "cell_type": "code",
      "metadata": {
        "id": "oBrmDIPV8OW3"
      },
      "source": [
        "import requests\r\n",
        "from bs4 import BeautifulSoup"
      ],
      "execution_count": 1,
      "outputs": []
    },
    {
      "cell_type": "code",
      "metadata": {
        "colab": {
          "base_uri": "https://localhost:8080/"
        },
        "id": "D4nVuhfm8Wvs",
        "outputId": "11ed9657-aae1-40e4-d8ff-680273c1264b"
      },
      "source": [
        "# Trying to get list of stocks which are 52wk high\r\n",
        "\r\n",
        "response = requests.get(\"https://www.moneycontrol.com/stocks/marketstats/nsehigh/index.php\")\r\n",
        "print(response.status_code)"
      ],
      "execution_count": 2,
      "outputs": [
        {
          "output_type": "stream",
          "text": [
            "200\n"
          ],
          "name": "stdout"
        }
      ]
    },
    {
      "cell_type": "code",
      "metadata": {
        "colab": {
          "base_uri": "https://localhost:8080/"
        },
        "id": "L_De5Pvn8dEB",
        "outputId": "87ff4ce8-91bd-44c2-d501-de7130f8884b"
      },
      "source": [
        "response.headers"
      ],
      "execution_count": 3,
      "outputs": [
        {
          "output_type": "execute_result",
          "data": {
            "text/plain": [
              "{'Expires': 'Thu, 19 Nov 1981 08:52:00 GMT', 'Cache-Control': 'no-store, no-cache, must-revalidate, post-check=0, pre-check=0', 'Pragma': 'no-cache', 'X-Cnection': 'close', 'Content-Type': 'text/html; charset=UTF-8', 'Content-Encoding': 'gzip', 'Date': 'Sun, 14 Mar 2021 22:53:33 GMT', 'Transfer-Encoding': 'chunked', 'Connection': 'keep-alive, Transfer-Encoding', 'Vary': 'Accept-Encoding', 'Set-Cookie': 'PHPSESSID=1kmabbfn3o17ueiv58se18i3t1; path=/; domain=.moneycontrol.com, bm_sz=EFA253C07F4B88F624BE7BAF40597567~YAAQZaQFF3oy3yd4AQAAGdjxMgvBkjZKZhfrcC3u9YFAvOH2PUsE+Txsicc68RvSXclaxarPvBtZFED3BQtPptlDPCE+fVUhMc4tG3xAelxsUW+i3o0PTZDHNGqt2/q3Rnj+UboNWfAMcisC0VWW5nP/JCwgoMFpX/WrQn7HKOV7NbsvnLFjb+1kK7T0hCfGRyFHX43h; Domain=.moneycontrol.com; Path=/; Expires=Mon, 15 Mar 2021 02:53:32 GMT; Max-Age=14399; HttpOnly, _abck=68328E1E60522C7AD570BEBDEE3DA6FF~-1~YAAQZaQFF3sy3yd4AQAAGdjxMgVUHmvX9o6mf4prlyxk/6Pk4Rm6DA2dm2NrRF1n1XmjvgN+7pFjnaVQOfuFVBX+h8Rn3wPkf/8p3Orl9K+OOi8kj0uuOHg2qXzzhdIX1xKTjR2blayBDmYOVROHpp1n8AWcoxlc9io8J4FQfw21TjHbx4Sw1E34SgE+36UPPxrQExsyKjT5sChmzJaKVqBRRdsBxbgJVQXTiecpX8/FewajV86G5X+MlCqFigyRW0PJWIn//a6GHjBMHEZr/YN0l2RhITCJfTQTHJoIo17Z6F1qK3kWaH7i3fPt/qAvH3hrqZFzyueXMunutD1X8N2NwIvA1Ttb52C287CbDTv3OJubkWg4a2UUy8Fnlo8=~-1~-1~-1; Domain=.moneycontrol.com; Path=/; Expires=Mon, 14 Mar 2022 22:53:33 GMT; Max-Age=31536000; Secure', 'Access-Control-Max-Age': '86400', 'Access-Control-Allow-Credentials': 'false', 'Access-Control-Allow-Headers': '*', 'Access-Control-Allow-Methods': 'GET,POST', 'Access-Control-Allow-Origin': '*', 'Strict-Transport-Security': 'max-age=86400 ; preload'}"
            ]
          },
          "metadata": {
            "tags": []
          },
          "execution_count": 3
        }
      ]
    },
    {
      "cell_type": "code",
      "metadata": {
        "id": "yKHP5l1c8gZm"
      },
      "source": [
        "html = BeautifulSoup(response.text, \"html.parser\")\r\n",
        "# html.prettify\r\n"
      ],
      "execution_count": 4,
      "outputs": []
    },
    {
      "cell_type": "code",
      "metadata": {
        "id": "4MnQJ5YO8kty"
      },
      "source": [
        "data_html = html.find_all(\"span\", class_=\"gld13 disin\")\r\n",
        "\r\n"
      ],
      "execution_count": 5,
      "outputs": []
    },
    {
      "cell_type": "code",
      "metadata": {
        "id": "zauZALZ88nzB"
      },
      "source": [
        "high_52wk_nse = []\r\n",
        "\r\n",
        "for i in data_html[1::2]:\r\n",
        "  # print(type(i))\r\n",
        "  high_52wk_nse.append(i.text.strip())"
      ],
      "execution_count": 6,
      "outputs": []
    },
    {
      "cell_type": "code",
      "metadata": {
        "colab": {
          "base_uri": "https://localhost:8080/"
        },
        "id": "iFmsVz4W8sKM",
        "outputId": "8b8b16ae-795a-48c6-c130-f3f6f6f43938"
      },
      "source": [
        "print(high_52wk_nse)"
      ],
      "execution_count": 7,
      "outputs": [
        {
          "output_type": "stream",
          "text": [
            "['21st Cen Mgt', '3M India', 'Aakash Explorat', 'Almondz Global', 'Apollo Pipes', 'Asahi Songwon', 'Assoc Alcohol', 'Astral Poly Tec', 'aurionPro Sol', 'Bajaj Consumer', 'Balrampur Chini', 'BL Kashyap', 'Blue Dart', 'Can Fin Homes', 'Capital Trust', 'CL Educate', 'Consol Finvest', 'Cosmo Films', 'Cummins', 'DB Realty', 'Deepak Fert', 'Delta Corp', 'Dhunseri Ventur', 'Dixon Technolog', 'DNL', 'DRC Systems', 'Edelweiss', 'Elecon Eng', 'Ganga Forging', 'Genesys Int', 'Genus Power', 'Giriraj Civil D', 'Godha Cabcon', 'Goenka Diamond', 'Graphite India', 'Hb Stockhol', 'HEG', 'HMT', 'Honeywell Autom', 'HPL Electric &', 'IEX', 'IFCI', 'IIFL Finance', 'India Glycols', 'India Tourism D', 'Infibeam Avenue', 'Intellect Desig', 'IRB InvIT', 'Jayaswal Neco', 'Jindal Photo', 'Jindal PolyFilm', 'Kabra Extrusion', 'Karur Vysya', 'Kernex Micro', 'KPR Mill', 'Lakshmi Machine', 'Lotus Eye Care', 'Magma Fincorp', 'Mahindra Logist', 'Man Infra', 'Manaksia Coated', 'Mandhana Retail', 'Manugraph Ind', 'Marine Electric', 'Max Ventures an', 'Meghmani Organi', 'Mindtree', 'MTNL', 'Mukund Engg', 'Nahar Poly Film', 'Nahar Spinning', 'Nandani Creatio', 'NRB Industrial', 'Oil India', 'Olectra Greente', 'Onward Tech', 'PAE', 'Palash Securiti', 'Pansari Develop', 'Par Drugs', 'PC Jeweller', 'PDS Multi', 'Penta Gold', 'PG Electroplast', 'Pil Italica', 'Poly Medicure', 'Power & Instrum', 'Power Finance', 'Precot', 'PTC India', 'Reliance Home F', 'Reliance Power', 'Responsive Ind', 'RUDRABHISHEK', 'Rushil Decor', 'Saregama India', 'Sarveshwar Food', 'Schaeffler Ind', 'Sezal Glass', 'Shiva Texyarn', 'Shri Ram Switch', 'Shyam Telecom', 'Siemens', 'Soma Textile', 'Sphere Global', 'Standard Ind', 'Suprajit Eng', 'Tata Chemicals', 'Tata Power', 'The Western Ind', 'Tips Industries', 'Touchwood Enter', 'Tube Investment', 'Vaibhav Global', 'Vascon Engineer', 'Vaxtex', 'Vedanta', 'Venus Remedies', 'Welspun India', 'WS Industries']\n"
          ],
          "name": "stdout"
        }
      ]
    },
    {
      "cell_type": "code",
      "metadata": {
        "colab": {
          "base_uri": "https://localhost:8080/"
        },
        "id": "HENPKQo48vLC",
        "outputId": "f5dc8af6-2aa2-43bd-caf8-c93d597e54dd"
      },
      "source": [
        "print(len(high_52wk_nse))"
      ],
      "execution_count": 8,
      "outputs": [
        {
          "output_type": "stream",
          "text": [
            "120\n"
          ],
          "name": "stdout"
        }
      ]
    },
    {
      "cell_type": "code",
      "metadata": {
        "id": "pJ0Uh0Bk8zOK"
      },
      "source": [
        ""
      ],
      "execution_count": null,
      "outputs": []
    }
  ]
}
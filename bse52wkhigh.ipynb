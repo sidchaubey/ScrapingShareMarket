{
  "nbformat": 4,
  "nbformat_minor": 0,
  "metadata": {
    "colab": {
      "name": "bse52wkhigh.ipynb",
      "provenance": [],
      "authorship_tag": "ABX9TyNw16BuAdolLgHeiCduN85I",
      "include_colab_link": true
    },
    "kernelspec": {
      "name": "python3",
      "display_name": "Python 3"
    }
  },
  "cells": [
    {
      "cell_type": "markdown",
      "metadata": {
        "id": "view-in-github",
        "colab_type": "text"
      },
      "source": [
        "<a href=\"https://colab.research.google.com/github/sidchaubey/ScrapingShareMarket/blob/main/bse52wkhigh.ipynb\" target=\"_parent\"><img src=\"https://colab.research.google.com/assets/colab-badge.svg\" alt=\"Open In Colab\"/></a>"
      ]
    },
    {
      "cell_type": "code",
      "metadata": {
        "id": "dp-geCn01jk0"
      },
      "source": [
        "import requests\r\n",
        "from bs4 import BeautifulSoup"
      ],
      "execution_count": 1,
      "outputs": []
    },
    {
      "cell_type": "code",
      "metadata": {
        "colab": {
          "base_uri": "https://localhost:8080/"
        },
        "id": "Dqv5gNNh1r5X",
        "outputId": "3946795d-7ee8-46a9-8545-5c3ae6bcfcee"
      },
      "source": [
        "response = requests.get(\"https://www.moneycontrol.com/stocks/marketstats/bsehigh/\")\r\n",
        "print(response.status_code)"
      ],
      "execution_count": 2,
      "outputs": [
        {
          "output_type": "stream",
          "text": [
            "200\n"
          ],
          "name": "stdout"
        }
      ]
    },
    {
      "cell_type": "code",
      "metadata": {
        "colab": {
          "base_uri": "https://localhost:8080/"
        },
        "id": "RfcnkUsI182p",
        "outputId": "afffb05c-f56f-417d-b03f-9ece318837bb"
      },
      "source": [
        "response.headers"
      ],
      "execution_count": 3,
      "outputs": [
        {
          "output_type": "execute_result",
          "data": {
            "text/plain": [
              "{'X-Cnection': 'close', 'Content-Type': 'text/html; charset=UTF-8', 'Content-Encoding': 'gzip', 'Expires': 'Sun, 14 Mar 2021 22:25:09 GMT', 'Cache-Control': 'max-age=0, no-cache, no-store', 'Pragma': 'no-cache', 'Date': 'Sun, 14 Mar 2021 22:25:09 GMT', 'Transfer-Encoding': 'chunked', 'Connection': 'keep-alive, Transfer-Encoding', 'Vary': 'Accept-Encoding', 'Set-Cookie': 'PHPSESSID=q22vpvokgs6pninn0qj1995kf4; path=/; domain=.moneycontrol.com, bm_sz=3B1C5A1AFB47D36D0E2EFBCDCB78C827~YAAQDSkeuFNa4SF4AQAAvdbXMgtuotKAO1yv3rVNV5CeRkFM+HOMke/VRnhmZ/6DNHbjSH+HrHSOx7i5ACsLJXVvyyWg8CAZpChl9BQOioJycT5JaNvdseIIjaNkhF22rVyTARY2cnkDInMbJh8XkeKNT+ZQojQOuGMsNqObPuLBMOTXFdvNuRgNgJIuQlyBfeHZqNfs; Domain=.moneycontrol.com; Path=/; Expires=Mon, 15 Mar 2021 02:25:07 GMT; Max-Age=14398; HttpOnly, _abck=3E944F174D3819A3B724FA9456C7CAD3~-1~YAAQDSkeuFRa4SF4AQAAvdbXMgWcbiwx1Zzr/VzxE+xU4gPKN5UdUFCfLeaqw2wMp90RZ/pgRwJhmwSv5ZWK35FR5A4c++uFF83w/PimC8wcDl35ZIuT856BLZ2pio59wsMuAN0gPgxP2b8cgg+GU2HP5ObT7G7ilvgggPGBH4Dzpi844P5SKvs1YpVCA0ma+5zP73Vlpm0bpIEU8jSmabNnY7X568MkSsMho909Hw5xSjoZ7bdi44dBUlLgdMrHqg5gkM5oktil1hFFPW0x4NEAwrbITOHd4CCLQfHWMVS9gv/qDNwszSRoK4GAqCRuij1+PbZLW3FJ1DNWpq+SE3Kivwl+SCTFDgkmNY6ySmIXUANM/0zIvjGj/xCQUOs=~-1~-1~-1; Domain=.moneycontrol.com; Path=/; Expires=Mon, 14 Mar 2022 22:25:09 GMT; Max-Age=31536000; Secure', 'Access-Control-Max-Age': '86400', 'Access-Control-Allow-Credentials': 'false', 'Access-Control-Allow-Headers': '*', 'Access-Control-Allow-Methods': 'GET,POST', 'Access-Control-Allow-Origin': '*', 'Strict-Transport-Security': 'max-age=86400 ; preload'}"
            ]
          },
          "metadata": {
            "tags": []
          },
          "execution_count": 3
        }
      ]
    },
    {
      "cell_type": "code",
      "metadata": {
        "id": "6jDmTp0j1_v8"
      },
      "source": [
        "html = BeautifulSoup(response.text, \"html.parser\")\r\n",
        "# html.prettify"
      ],
      "execution_count": 4,
      "outputs": []
    },
    {
      "cell_type": "code",
      "metadata": {
        "id": "0WOfllJZ2CVM"
      },
      "source": [
        "data_html = html.find_all(\"span\", class_=\"gld13 disin\")\r\n",
        "\r\n"
      ],
      "execution_count": 5,
      "outputs": []
    },
    {
      "cell_type": "code",
      "metadata": {
        "id": "UzvXAuTr2Gvo"
      },
      "source": [
        "high_52wk_bse = []\r\n",
        "\r\n",
        "count = 0\r\n",
        "for i in data_html[:]:\r\n",
        "  if count==0:\r\n",
        "    i = str(i.text.strip())\r\n",
        "    high_52wk_bse.append(i.partition('\\n')[0])"
      ],
      "execution_count": 29,
      "outputs": []
    },
    {
      "cell_type": "code",
      "metadata": {
        "colab": {
          "base_uri": "https://localhost:8080/"
        },
        "id": "UZnVj7pz2MNl",
        "outputId": "1befe2e3-e3be-49cf-b994-3a37e80a4fc7"
      },
      "source": [
        "high_52wk_bse"
      ],
      "execution_count": 30,
      "outputs": [
        {
          "output_type": "execute_result",
          "data": {
            "text/plain": [
              "['21st Cen Mgt ',\n",
              " '3M India ',\n",
              " 'Aananda Lakshmi ',\n",
              " 'Abhishek Infra ',\n",
              " 'Acme Resources ',\n",
              " 'Ad Manum Fin ',\n",
              " 'Aditya Vision ',\n",
              " 'Advance Syntex  ',\n",
              " 'Advik Capital  ',\n",
              " 'Advik Labors ',\n",
              " 'AGI Infra ',\n",
              " 'Alexander Stamp ',\n",
              " 'Almondz Global ',\n",
              " 'Anjani Foods ',\n",
              " 'Apollo Pipes ',\n",
              " 'Archana Soft ',\n",
              " 'Asahi Songwon ',\n",
              " 'Ashiana Agro ',\n",
              " 'Ashima ',\n",
              " 'Assam ',\n",
              " 'Assoc Alcohol ',\n",
              " 'Astral Poly Tec ',\n",
              " 'aurionPro Sol ',\n",
              " 'Bajaj Consumer  ',\n",
              " 'Balmer Invest ',\n",
              " 'Balrampur Chini ',\n",
              " 'BAMPSL Sec ',\n",
              " 'Bansal Roofing ',\n",
              " 'Baroda Extrusio ',\n",
              " 'Baron Infotech ',\n",
              " 'Betex ',\n",
              " 'Bhagwati Auto ',\n",
              " 'BL Kashyap ',\n",
              " 'Blue Chip ',\n",
              " 'Blue Dart ',\n",
              " 'Can Fin Homes ',\n",
              " 'Capital Trust ',\n",
              " 'CaprolactumChem ',\n",
              " 'Ceeta Industrie ',\n",
              " 'Centrum Capital ',\n",
              " 'Chandra Prabhu ',\n",
              " 'Chitradurga ',\n",
              " 'Cistro Telelink ',\n",
              " 'CL Educate ',\n",
              " 'Colorchips New  ',\n",
              " 'Concord Drugs ',\n",
              " 'Continent Petro ',\n",
              " 'Cosmo Films ',\n",
              " 'Cranes Software ',\n",
              " 'Cummins ',\n",
              " 'Deepak Fert ',\n",
              " 'Delta Corp ',\n",
              " 'Dhanada Corp ',\n",
              " 'Dharamsi Morarj ',\n",
              " 'Dhunseri Ventur ',\n",
              " 'Dixon Technolog ',\n",
              " 'DNL ',\n",
              " 'DRC Systems ',\n",
              " 'DSJ Comm ',\n",
              " 'Dynavision ',\n",
              " 'Ejecta Marketin ',\n",
              " 'Elecon Eng ',\n",
              " 'Emerald Leasing ',\n",
              " 'Flomic Global ',\n",
              " 'Fruition Vent ',\n",
              " 'Galactico Corp ',\n",
              " 'Garg Furnace ',\n",
              " 'Garware Synth ',\n",
              " 'Genesys Int ',\n",
              " 'Genus Power ',\n",
              " 'Genus Prime Inf ',\n",
              " 'Gilada Finance ',\n",
              " 'Gita Renewable  ',\n",
              " 'Glance Fin ',\n",
              " 'Globus Constr ',\n",
              " 'Govind Rubber ',\n",
              " 'Graphite India ',\n",
              " 'Greenply Ind ',\n",
              " 'Guj Petrosynth ',\n",
              " 'Haria Apparels ',\n",
              " 'HB Estate Dev ',\n",
              " 'Hb Stockhol ',\n",
              " 'HEG ',\n",
              " 'HMT ',\n",
              " 'Honeywell Autom ',\n",
              " 'HP Cotton ',\n",
              " 'HPL Electric &  ',\n",
              " 'IEX ',\n",
              " 'IFCI ',\n",
              " 'IIFL Finance ',\n",
              " 'IITL Projects ',\n",
              " 'Ind Motor Parts ',\n",
              " 'India Glycols ',\n",
              " 'India Tourism D ',\n",
              " 'Indo-City ',\n",
              " 'Innovative Tech ',\n",
              " 'Intel Cap Adv ',\n",
              " 'Intellect Desig ',\n",
              " 'Inter Globe Fin ',\n",
              " 'Ion Exchange ',\n",
              " 'IRB InvIT ',\n",
              " 'ISF ',\n",
              " 'ISGEC Heavy Eng ',\n",
              " 'J.Taparia Proj ',\n",
              " 'Jainco Projects ',\n",
              " 'Jattashankar ',\n",
              " 'Jayabharat Cred ',\n",
              " 'Jayaswal Neco ',\n",
              " 'Jaykay Enter ',\n",
              " 'Jaysynth Dyestu ',\n",
              " 'JBM Auto ',\n",
              " 'JCL ',\n",
              " 'Jindal Capital ',\n",
              " 'Jindal Photo ',\n",
              " 'Jindal PolyFilm ',\n",
              " 'JM Financial ',\n",
              " 'Jyotirgamya Ent ',\n",
              " 'Kabra Extrusion ',\n",
              " 'Kajaria Ceramic ',\n",
              " 'Karur Vysya ',\n",
              " 'Kernex Micro ',\n",
              " 'KG Petrochem ',\n",
              " 'Kiran Vyapar ',\n",
              " 'Kirloskar Pneum ',\n",
              " 'Kome-On Communi ',\n",
              " 'KPR Mill ',\n",
              " 'Kriti Ind ',\n",
              " 'Kumbhat Fin Ser ',\n",
              " 'Lakshmi Machine ',\n",
              " 'LKP Finance ',\n",
              " 'Looks Health ',\n",
              " 'Magma Fincorp ',\n",
              " 'Mahindra Logist ',\n",
              " 'Man Infra ',\n",
              " 'Manaksia Coated ',\n",
              " 'Mandhana Retail ',\n",
              " 'Mangalam Ind ',\n",
              " 'Master Trust ',\n",
              " 'Max Financial ',\n",
              " 'Max Ventures an ',\n",
              " 'Mayur Leather ',\n",
              " 'Medi-Caps ',\n",
              " 'Mega Corp ',\n",
              " 'Meghmani Organi ',\n",
              " 'Megri Soft ',\n",
              " 'Mehai Technolog ',\n",
              " 'Metroglobal ',\n",
              " 'Mid India Ind ',\n",
              " 'Mindtree ',\n",
              " 'Mohite Ind ',\n",
              " 'Moongipa Capita ',\n",
              " 'Moschip Tech ',\n",
              " 'MTNL ',\n",
              " 'Mukat Pipes ',\n",
              " 'Mukund Engg ',\n",
              " 'Nahar Poly Film ',\n",
              " 'Nahar Spinning ',\n",
              " 'Nyssa Corp ',\n",
              " 'Olectra Greente ',\n",
              " 'Omkar Overseas ',\n",
              " 'One Global Serv ',\n",
              " 'Onward Tech ',\n",
              " 'Orchid Pharma ',\n",
              " 'Oriental Veneer ',\n",
              " 'PAE ',\n",
              " 'Pagaria Energy ',\n",
              " 'Palash Securiti ',\n",
              " 'Paushak Ltd ',\n",
              " 'PC Jeweller ',\n",
              " 'PDS Multi ',\n",
              " 'Pentokey Organy ',\n",
              " 'Permanent Magne ',\n",
              " 'PG Electroplast ',\n",
              " 'Pil Italica ',\n",
              " 'Pioneer Invest ',\n",
              " 'Planters Poly ',\n",
              " 'Poly Medicure ',\n",
              " 'Polytex India ',\n",
              " 'Power Finance ',\n",
              " 'Pradip Overseas ',\n",
              " 'Precision Elec ',\n",
              " 'Premier Synth ',\n",
              " 'PTC India ',\n",
              " 'PTC Industries ',\n",
              " 'Punj Alkalies ',\n",
              " 'Raasi Refract ',\n",
              " 'Rajratan Global ',\n",
              " 'Reliance Power ',\n",
              " 'Rich Universe ',\n",
              " 'Ritesh Intl ',\n",
              " 'Rushil Decor ',\n",
              " 'S.M. Gold  ',\n",
              " 'Sagarsoft ',\n",
              " 'Sakthi Finance ',\n",
              " 'Salora Inter ',\n",
              " 'Sambandam Spin ',\n",
              " 'Sangam Renewabl ',\n",
              " 'Saregama India ',\n",
              " 'Sawaca Fin ',\n",
              " 'Sayaji Industri ',\n",
              " 'Schaeffler Ind ',\n",
              " 'Sezal Glass ',\n",
              " 'Sheshadri Ind ',\n",
              " 'Shine ',\n",
              " 'Shiva Mills Lim ',\n",
              " 'Shiva Texyarn ',\n",
              " 'Shivalik Bimeta ',\n",
              " 'Shree Ajit Pulp ',\n",
              " 'Shree Global ',\n",
              " 'Shri Bajrang ',\n",
              " 'Shri Dinesh Mil ',\n",
              " 'Shyam Telecom ',\n",
              " 'SIT ',\n",
              " 'Sky Industries ',\n",
              " 'Smruthi Organic ',\n",
              " 'SNS Textiles ',\n",
              " 'Soma Textile ',\n",
              " 'Spaceage Prod ',\n",
              " 'Sphere Global ',\n",
              " 'Sportking India ',\n",
              " 'SRG Housing Fin ',\n",
              " 'Sri Ramakrishna ',\n",
              " 'Standard Batter ',\n",
              " 'Standard Ind ',\n",
              " 'Super Sales ',\n",
              " 'Supertex Ind ',\n",
              " 'Suprajit Eng ',\n",
              " 'Supremex ',\n",
              " 'Tata Chemicals ',\n",
              " 'Tata Power ',\n",
              " 'Tatia Global ',\n",
              " 'Tejnaksh ',\n",
              " 'Texel Ind ',\n",
              " 'Thakkars Dev ',\n",
              " 'Tips Industries ',\n",
              " 'Tube Investment ',\n",
              " 'Tuticorin Alkal ',\n",
              " 'Vaibhav Global ',\n",
              " 'Vascon Engineer ',\n",
              " 'Vedanta ',\n",
              " 'Veejay Lakshmi ',\n",
              " 'Venus Remedies ',\n",
              " 'Vippy Spinpro ',\n",
              " 'Virat Ind ',\n",
              " 'Virtual Global ',\n",
              " 'Waa Solar ',\n",
              " 'Welspun India ']"
            ]
          },
          "metadata": {
            "tags": []
          },
          "execution_count": 30
        }
      ]
    },
    {
      "cell_type": "code",
      "metadata": {
        "colab": {
          "base_uri": "https://localhost:8080/"
        },
        "id": "OxhH6MGD2Rwv",
        "outputId": "ece321a3-6a40-444a-cc2b-eec8b550d950"
      },
      "source": [
        "len(high_52wk_bse)"
      ],
      "execution_count": 31,
      "outputs": [
        {
          "output_type": "execute_result",
          "data": {
            "text/plain": [
              "247"
            ]
          },
          "metadata": {
            "tags": []
          },
          "execution_count": 31
        }
      ]
    },
    {
      "cell_type": "code",
      "metadata": {
        "id": "VZ2laWUk7I7x"
      },
      "source": [
        ""
      ],
      "execution_count": null,
      "outputs": []
    }
  ]
}